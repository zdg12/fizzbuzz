{
  "cells": [
    {
      "cell_type": "markdown",
      "metadata": {
        "id": "view-in-github",
        "colab_type": "text"
      },
      "source": [
        "<a href=\"https://colab.research.google.com/github/zdg12/fizzbuzz/blob/main/03_exercise3cdi1212_ipynb_json.ipynb\" target=\"_parent\"><img src=\"https://colab.research.google.com/assets/colab-badge.svg\" alt=\"Open In Colab\"/></a>"
      ]
    },
    {
      "cell_type": "markdown",
      "id": "b1bea682",
      "metadata": {
        "id": "b1bea682"
      },
      "source": [
        "## PyTorchの基本機能に関する演習問題\n",
        "特に指示がない限り，問題の回答に当たってはPyTorchの機能を利用すること"
      ]
    },
    {
      "cell_type": "markdown",
      "id": "f2a3ec46",
      "metadata": {
        "id": "f2a3ec46"
      },
      "source": [
        "### 問題1:\n",
        "NumPy配列 `np.array([1, 2, 3, 4, 5])` をPyTorchテンソルに変換するプログラムを作成してください．\n",
        "ただし，データ型は32bit floatとなるようにしてください．\n",
        "また，生成したPyTorchテンソルの`dtype`, `shape`, `device` を表示してください．"
      ]
    },
    {
      "cell_type": "code",
      "execution_count": 2,
      "id": "3e709e86",
      "metadata": {
        "id": "3e709e86",
        "colab": {
          "base_uri": "https://localhost:8080/"
        },
        "outputId": "0a75e871-a229-4a8c-e34c-ff45066832e8"
      },
      "outputs": [
        {
          "output_type": "stream",
          "name": "stdout",
          "text": [
            "dtype: torch.float32\n",
            "shape: torch.Size([5])\n",
            "device: cpu\n"
          ]
        }
      ],
      "source": [
        "# こちらにコードを記述してください。\n",
        "\n",
        "import numpy as np\n",
        "import torch\n",
        "\n",
        "np_array = np.array([1, 2, 3, 4, 5])\n",
        "\n",
        "tensor = torch.tensor(np_array, dtype=torch.float32)\n",
        "\n",
        "print(f'dtype: {tensor.dtype}')\n",
        "print(f'shape: {tensor.shape}')\n",
        "print(f'device: {tensor.device}')"
      ]
    },
    {
      "cell_type": "markdown",
      "id": "376959df",
      "metadata": {
        "id": "376959df"
      },
      "source": [
        "### 問題2:\n",
        "要素が`[-6, -3, 0, 3, 6, 9]`である1階テンソル（ベクトル）を生成し，その要素を表示するプログラムを作成してください．"
      ]
    },
    {
      "cell_type": "code",
      "execution_count": 4,
      "id": "95d64ed6",
      "metadata": {
        "id": "95d64ed6",
        "colab": {
          "base_uri": "https://localhost:8080/"
        },
        "outputId": "37f6f611-1e22-4f0f-b696-851be34d22e0"
      },
      "outputs": [
        {
          "output_type": "stream",
          "name": "stdout",
          "text": [
            "tensor([-6, -3,  0,  3,  6,  9])\n"
          ]
        }
      ],
      "source": [
        "# こちらにコードを記述してください。\n",
        "import torch\n",
        "\n",
        "tensor = torch.tensor([-6, -3, 0, 3, 6, 9])\n",
        "\n",
        "print(tensor)"
      ]
    },
    {
      "cell_type": "markdown",
      "id": "5c72df08",
      "metadata": {
        "id": "5c72df08"
      },
      "source": [
        "### 問題3:\n",
        "$$\\begin{pmatrix}\n",
        "0 & 1 & 2 & 3 \\\\\n",
        "4 & 5 & 6 & 7 \\\\\n",
        "8 & 9 & 10 & 11 \\\\\n",
        "12 & 13 & 14 & 15 \\\\\n",
        "16 & 17 & 18 & 19 \\\\\n",
        "\\end{pmatrix}$$\n",
        "という，形（サイズ）が`[5, 4]`の2階テンソル（行列）を作成し，以下ぞれぞれの要素を取得するプログラムを作成してください．\n",
        "- 2行3列の要素（最も左上の要素は1行1列とする．以下同様）\n",
        "- 第2列の要素すべて\n",
        "- 奇数番目の行の要素すべて"
      ]
    },
    {
      "cell_type": "code",
      "execution_count": 6,
      "id": "2f07746e",
      "metadata": {
        "id": "2f07746e",
        "colab": {
          "base_uri": "https://localhost:8080/"
        },
        "outputId": "d93028d3-e73f-4191-bd68-c66c4886c96e"
      },
      "outputs": [
        {
          "output_type": "stream",
          "name": "stdout",
          "text": [
            "tensor(7)\n",
            "tensor([ 2,  6, 10, 14, 18])\n",
            "tensor([[ 1,  2,  3,  4],\n",
            "        [ 9, 10, 11, 12],\n",
            "        [17, 18, 19, 20]])\n"
          ]
        }
      ],
      "source": [
        "# こちらにコードを記述してください。\n",
        "import torch\n",
        "tensor = torch.arange(1, 21).reshape(5, 4)\n",
        "tensor23 = tensor[1,2]\n",
        "tensor2 = tensor[:,1]\n",
        "tensor1 = tensor[::2,:]\n",
        "print(tensor23)\n",
        "print(tensor2)\n",
        "print(tensor1)"
      ]
    },
    {
      "cell_type": "markdown",
      "id": "af23d936",
      "metadata": {
        "id": "af23d936"
      },
      "source": [
        "### 問題4:\n",
        "$A=\\begin{pmatrix} 2 & -1 \\\\ 1 & 1 \\end{pmatrix}, x=\\begin{pmatrix} 1 \\\\ 1 \\end{pmatrix}, b=\\begin{pmatrix} 1 \\\\ 2 \\end{pmatrix}$のとき，$Ax-b$を計算するプログラムを作成してください．"
      ]
    },
    {
      "cell_type": "code",
      "execution_count": 7,
      "id": "5973f695",
      "metadata": {
        "id": "5973f695",
        "colab": {
          "base_uri": "https://localhost:8080/"
        },
        "outputId": "c3ff43f2-25c8-4dc0-a69f-ae8affab5e68"
      },
      "outputs": [
        {
          "output_type": "stream",
          "name": "stdout",
          "text": [
            "tensor([0, 0])\n"
          ]
        }
      ],
      "source": [
        "# こちらにコードを記述してください。\n",
        "import torch\n",
        "\n",
        "A = torch.tensor([[2, -1], [1, 1]])\n",
        "x = torch.tensor([1, 1])\n",
        "b = torch.tensor([1, 2])\n",
        "\n",
        "result = torch.matmul(A, x) - b\n",
        "\n",
        "print(result)"
      ]
    },
    {
      "cell_type": "markdown",
      "id": "a1961fec",
      "metadata": {
        "id": "a1961fec"
      },
      "source": [
        "### 問題5:\n",
        "関数$f(x)=x^3-12x+10$について，$x=-2, 0, 2$における導関数の値を計算するプログラムを作成してください．"
      ]
    },
    {
      "cell_type": "code",
      "execution_count": 20,
      "id": "79f64ecc",
      "metadata": {
        "id": "79f64ecc",
        "colab": {
          "base_uri": "https://localhost:8080/"
        },
        "outputId": "e9c05763-439a-43f9-d716-a2124d5b78ea"
      },
      "outputs": [
        {
          "output_type": "stream",
          "name": "stdout",
          "text": [
            "tensor([  0, -12,   0], dtype=torch.int32)\n"
          ]
        }
      ],
      "source": [
        "# こちらにコードを記述してください。\n",
        "import torch\n",
        "\n",
        "def f(x):\n",
        "    return x**3 - 12*x + 10\n",
        "\n",
        "x = torch.tensor([-2.0, 0.0, 2.0], requires_grad=True)\n",
        "\n",
        "y = f(x)\n",
        "\n",
        "y.backward(torch.ones_like(x))\n",
        "a = x.grad.int()\n",
        "print(a)"
      ]
    }
  ],
  "metadata": {
    "colab": {
      "provenance": [],
      "include_colab_link": true
    },
    "language_info": {
      "name": "python"
    },
    "kernelspec": {
      "name": "python3",
      "display_name": "Python 3"
    }
  },
  "nbformat": 4,
  "nbformat_minor": 5
}